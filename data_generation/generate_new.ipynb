{
 "cells": [
  {
   "cell_type": "code",
   "execution_count": null,
   "metadata": {},
   "outputs": [],
   "source": [
    "import json\n",
    "import numpy as np\n",
    "import os\n",
    "from Item import Cell, Bubble\n",
    "from MockImage import MockImage"
   ]
  },
  {
   "cell_type": "code",
   "execution_count": null,
   "metadata": {},
   "outputs": [],
   "source": [
    "cell_sample_folder = 'BT-549'\n",
    "image_name = 'Project_200Hz_L_s000_ch01'\n",
    "json_path = os.path.join(cell_sample_folder, f'{image_name}.json')\n",
    "image_path = os.path.join(cell_sample_folder, f'{image_name}.tif')\n",
    "background_path = os.path.join(cell_sample_folder, 'background.tif')\n",
    "\n",
    "output_dir_image = os.path.join('..', 'dataset-BT549', 'images', 'val')\n",
    "output_dir_label = os.path.join('..', 'dataset-BT549', 'labels', 'val')"
   ]
  },
  {
   "cell_type": "code",
   "execution_count": null,
   "metadata": {},
   "outputs": [],
   "source": [
    "with open(json_path, 'r') as json_data:\n",
    "    json_data = json.load(json_data)"
   ]
  },
  {
   "cell_type": "code",
   "execution_count": null,
   "metadata": {},
   "outputs": [],
   "source": [
    "cells = [Cell(np.array(boxe['points'], np.int32), image_path)\n",
    "         for boxe in json_data['boxes'] if boxe['label'] == 'cells']\n",
    "bubbles = [Bubble(np.array(boxe['points'], np.int32), image_path)\n",
    "           for boxe in json_data['boxes'] if boxe['label'] == 'bubbles']"
   ]
  },
  {
   "cell_type": "code",
   "execution_count": null,
   "metadata": {},
   "outputs": [],
   "source": [
    "confluences = [0.1, 0.15, 0.2, 0.25, 0.3, 0.35, 0.4]\n",
    "for c in confluences:\n",
    "    print(c)\n",
    "    for i in range(10):\n",
    "        if i % 10 == 0:\n",
    "            print(i)\n",
    "        image = MockImage(\n",
    "            background_path, mean_angle=50, confluence=c, trials=10,\n",
    "            mock_image_path=image_path.replace('.tif', ''),\n",
    "            output_dir_image=output_dir_image,\n",
    "            output_dir_label=output_dir_label\n",
    "        )\n",
    "\n",
    "        image.generate_new_image(cells, bubbles)\n",
    "        image.save()"
   ]
  }
 ],
 "metadata": {
  "kernelspec": {
   "display_name": "datascience",
   "language": "python",
   "name": "python3"
  },
  "language_info": {
   "codemirror_mode": {
    "name": "ipython",
    "version": 3
   },
   "file_extension": ".py",
   "mimetype": "text/x-python",
   "name": "python",
   "nbconvert_exporter": "python",
   "pygments_lexer": "ipython3",
   "version": "3.9.16"
  }
 },
 "nbformat": 4,
 "nbformat_minor": 2
}
